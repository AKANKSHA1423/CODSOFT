{
 "cells": [
  {
   "cell_type": "code",
   "execution_count": 13,
   "id": "9cdb499c-9a7e-431a-8691-27093a7cbd18",
   "metadata": {},
   "outputs": [
    {
     "name": "stdout",
     "output_type": "stream",
     "text": [
      "\n",
      " Contact Book App\n",
      "1. Create contact\n",
      "2. View contact\n",
      "3. Update contact\n",
      "4. Delete contact\n",
      "5. Search contact\n",
      "6. Count contact\n",
      "7. Exit\n"
     ]
    },
    {
     "name": "stdin",
     "output_type": "stream",
     "text": [
      "Enter your Choice =  1\n",
      "Enter your name =  sai\n",
      "Enter email =  sai34@\n",
      "Enter phone number =  0987654321\n",
      "Enter address =  irad\n"
     ]
    },
    {
     "name": "stdout",
     "output_type": "stream",
     "text": [
      "Contact name sai has been created successfully!\n",
      "\n",
      " Contact Book App\n",
      "1. Create contact\n",
      "2. View contact\n",
      "3. Update contact\n",
      "4. Delete contact\n",
      "5. Search contact\n",
      "6. Count contact\n",
      "7. Exit\n"
     ]
    },
    {
     "name": "stdin",
     "output_type": "stream",
     "text": [
      "Enter your Choice =  5\n",
      "Enter contact name to search =  sai\n"
     ]
    },
    {
     "name": "stdout",
     "output_type": "stream",
     "text": [
      "found -Name sai, Email:sai34@, Phone_number:0987654321 Email:sai34@\n",
      "\n",
      " Contact Book App\n",
      "1. Create contact\n",
      "2. View contact\n",
      "3. Update contact\n",
      "4. Delete contact\n",
      "5. Search contact\n",
      "6. Count contact\n",
      "7. Exit\n"
     ]
    },
    {
     "name": "stdin",
     "output_type": "stream",
     "text": [
      "Enter your Choice =  6\n"
     ]
    },
    {
     "name": "stdout",
     "output_type": "stream",
     "text": [
      "Total contacts in your book : 1\n",
      "\n",
      " Contact Book App\n",
      "1. Create contact\n",
      "2. View contact\n",
      "3. Update contact\n",
      "4. Delete contact\n",
      "5. Search contact\n",
      "6. Count contact\n",
      "7. Exit\n"
     ]
    },
    {
     "name": "stdin",
     "output_type": "stream",
     "text": [
      "Enter your Choice =  7\n"
     ]
    },
    {
     "name": "stdout",
     "output_type": "stream",
     "text": [
      "Good bye...Closing the program\n"
     ]
    }
   ],
   "source": [
    "contacts = {}\n",
    "\n",
    "while True:\n",
    "    print('\\n Contact Book App')\n",
    "    print('1. Create contact')\n",
    "    print('2. View contact')\n",
    "    print('3. Update contact')\n",
    "    print('4. Delete contact')\n",
    "    print('5. Search contact')\n",
    "    print('6. Count contact')\n",
    "    print('7. Exit')\n",
    "\n",
    "    choice = input('Enter your Choice = ')\n",
    "\n",
    "    if choice == '1':\n",
    "        name = input('Enter your name = ')\n",
    "        if name in contacts:\n",
    "            print(f\"contact name {name} already exists!\")\n",
    "        else:\n",
    "            email = input('Enter email = ')\n",
    "            phone_number = input('Enter phone number = ')\n",
    "            address = input('Enter address = ')\n",
    "            contacts[name] = {'email':str(email), 'phone_number':int(phone_number), 'address':str(address)}\n",
    "            print(f'Contact name {name} has been created successfully!')\n",
    "            \n",
    "    elif choice == '2':\n",
    "        name = input('Enter contact name to view = ')\n",
    "        if name in contacts:\n",
    "            contact = contacts[name]\n",
    "            print(f\"Name: {name}, Email:{email}, Phone Number:{phone_number}\")\n",
    "        else:\n",
    "            print('Contact not found')\n",
    "\n",
    "    elif choice == '3':\n",
    "        name = input('Enter name to update contact = ')\n",
    "        if name in contacts:\n",
    "            email = input('Enter updated email = ')\n",
    "            phone_number = input('Enter updated phone number = ')\n",
    "            address = input('Enter upadted address = ')\n",
    "            contacts[name] = {'email':str(email), 'phone_number':int(phone_number), 'address':str(address)}\n",
    "        else:\n",
    "            print('Contact not found!')\n",
    "            \n",
    "    elif choice == '4':\n",
    "        name = input('Enter contact name to delete = ')\n",
    "        if name in contacts:\n",
    "            del contacts[name]\n",
    "            print(f'contact name {name} has been deleted successfully!')\n",
    "        else:\n",
    "            print('Contact not found')\n",
    "\n",
    "    elif choice == '5':\n",
    "      search_name = input('Enter contact name to search = ')\n",
    "      found = False\n",
    "      for name, contact in contacts.items():\n",
    "          if search_name.lower()in name.lower():\n",
    "              print(f'found -Name {name}, Email:{email}, Phone_number:{phone_number} Email:{email}')\n",
    "              found = True\n",
    "          if not found:\n",
    "              print('No contact found with that name')\n",
    "\n",
    "    elif choice == '6':\n",
    "        print(f'Total contacts in your book : {len(contacts)}')\n",
    "\n",
    "    elif choice =='7':\n",
    "        print('Good bye...Closing the program')\n",
    "        break\n",
    "\n",
    "    else:\n",
    "       print('invalid input')\n",
    "\n",
    "\n",
    "        \n",
    "              \n",
    "                             "
   ]
  },
  {
   "cell_type": "code",
   "execution_count": null,
   "id": "0ba68b70-741c-462a-b065-37aa61178147",
   "metadata": {},
   "outputs": [],
   "source": []
  },
  {
   "cell_type": "code",
   "execution_count": null,
   "id": "6e5663d6-9a86-455a-8c57-fd87f6f31bff",
   "metadata": {},
   "outputs": [],
   "source": []
  }
 ],
 "metadata": {
  "kernelspec": {
   "display_name": "Python 3 (ipykernel)",
   "language": "python",
   "name": "python3"
  },
  "language_info": {
   "codemirror_mode": {
    "name": "ipython",
    "version": 3
   },
   "file_extension": ".py",
   "mimetype": "text/x-python",
   "name": "python",
   "nbconvert_exporter": "python",
   "pygments_lexer": "ipython3",
   "version": "3.12.7"
  }
 },
 "nbformat": 4,
 "nbformat_minor": 5
}
