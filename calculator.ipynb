{
 "cells": [
  {
   "cell_type": "code",
   "execution_count": 9,
   "id": "3c909a92-967a-43dc-b482-47b9dee1c5d3",
   "metadata": {},
   "outputs": [
    {
     "name": "stdout",
     "output_type": "stream",
     "text": [
      "1- Add\n",
      "2- Substract\n",
      "3- Multiply\n",
      "4- Divide\n"
     ]
    },
    {
     "name": "stdin",
     "output_type": "stream",
     "text": [
      "choose an operation: 1\n",
      "Enter first number:  5\n",
      "Enter second number:  5\n"
     ]
    },
    {
     "name": "stdout",
     "output_type": "stream",
     "text": [
      "the result of the operation is 10\n"
     ]
    }
   ],
   "source": [
    "print(\"1- Add\")\n",
    "print(\"2- Substract\")\n",
    "print(\"3- Multiply\")\n",
    "print(\"4- Divide\")\n",
    "option = int(input(\"choose an operation:\"))\n",
    "\n",
    "if(option in[1,2,3,4]):\n",
    "    num1 = int(input(\"Enter first number: \"))\n",
    "    num2 = int(input(\"Enter second number: \"))\n",
    "\n",
    "    if(option == 1):\n",
    "        result = num1 + num2\n",
    "    elif(option == 2):\n",
    "         result = num1 - num2\n",
    "    elif(option == 3):\n",
    "         result = num1 * num2\n",
    "    elif(option == 4):\n",
    "         result = num1 // num2\n",
    "    \n",
    "    else:\n",
    "     print(\"invalid operation entered\")\n",
    "\n",
    "print(\"the result of the operation is {}\".format(result))"
   ]
  },
  {
   "cell_type": "raw",
   "id": "6e0a156b-cb2b-40dc-a660-8c79092be54e",
   "metadata": {},
   "source": []
  },
  {
   "cell_type": "raw",
   "id": "361c0b02-f1f6-441f-927f-4e2a91456c2d",
   "metadata": {},
   "source": []
  }
 ],
 "metadata": {
  "kernelspec": {
   "display_name": "Python 3 (ipykernel)",
   "language": "python",
   "name": "python3"
  },
  "language_info": {
   "codemirror_mode": {
    "name": "ipython",
    "version": 3
   },
   "file_extension": ".py",
   "mimetype": "text/x-python",
   "name": "python",
   "nbconvert_exporter": "python",
   "pygments_lexer": "ipython3",
   "version": "3.12.7"
  }
 },
 "nbformat": 4,
 "nbformat_minor": 5
}
