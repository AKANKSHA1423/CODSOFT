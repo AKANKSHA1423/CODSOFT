{
 "cells": [
  {
   "cell_type": "code",
   "execution_count": 3,
   "id": "9fc54f12-dec3-44c4-8de8-8a05217745a8",
   "metadata": {},
   "outputs": [
    {
     "name": "stdin",
     "output_type": "stream",
     "text": [
      "Enter a choice (rock, paper, scissors):  paper\n"
     ]
    },
    {
     "name": "stdout",
     "output_type": "stream",
     "text": [
      "player: paper\n",
      "computer: rock\n",
      "you win!\n"
     ]
    },
    {
     "name": "stdin",
     "output_type": "stream",
     "text": [
      "play again? (y/n) n\n"
     ]
    },
    {
     "name": "stdout",
     "output_type": "stream",
     "text": [
      "Thanks for playing!!\n"
     ]
    }
   ],
   "source": [
    "import random\n",
    "\n",
    "options = (\"rock\",\"paper\",\"scissors\")\n",
    "player = None\n",
    "computer = random.choice(options)\n",
    "running = True\n",
    "\n",
    "while running:\n",
    "\n",
    " while player not in options:\n",
    "    player = input(\"Enter a choice (rock, paper, scissors): \")\n",
    "\n",
    " print(f\"player: {player}\")\n",
    " print(f\"computer: {computer}\")\n",
    "\n",
    " if player == computer:\n",
    "     print(\"it's a tie!\")\n",
    " elif player == \"rock\" and computer == \"scissors\":\n",
    "     print(\"you win!\")\n",
    " elif player == \"paper\" and computer == \"rock\":\n",
    "     print(\"you win!\")\n",
    " elif player == \"scissors\" and computer == \"paper\":\n",
    "     print(\"you win!\")\n",
    " else:\n",
    "     print(\"you lose!\")\n",
    "\n",
    " if not input(\"play again? (y/n)\").lower() == \"y\":\n",
    "        print(\"Thanks for playing!!\")\n",
    "        break"
   ]
  },
  {
   "cell_type": "code",
   "execution_count": null,
   "id": "3c62ed3f-238c-409a-bf9c-606acbdebab9",
   "metadata": {},
   "outputs": [],
   "source": []
  },
  {
   "cell_type": "code",
   "execution_count": null,
   "id": "c5a3150f-1230-4d8b-b66f-302f2cfc3211",
   "metadata": {},
   "outputs": [],
   "source": []
  }
 ],
 "metadata": {
  "kernelspec": {
   "display_name": "Python 3 (ipykernel)",
   "language": "python",
   "name": "python3"
  },
  "language_info": {
   "codemirror_mode": {
    "name": "ipython",
    "version": 3
   },
   "file_extension": ".py",
   "mimetype": "text/x-python",
   "name": "python",
   "nbconvert_exporter": "python",
   "pygments_lexer": "ipython3",
   "version": "3.12.7"
  }
 },
 "nbformat": 4,
 "nbformat_minor": 5
}
